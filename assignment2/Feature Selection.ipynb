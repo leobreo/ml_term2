{
 "cells": [
  {
   "cell_type": "code",
   "execution_count": 54,
   "metadata": {},
   "outputs": [],
   "source": [
    "from sklearn.datasets import load_iris\n",
    "from sklearn.feature_selection import SelectKBest\n",
    "from sklearn.feature_selection import f_classif\n",
    "from sklearn.model_selection import train_test_split\n",
    "import matplotlib.pyplot as plt\n",
    "import numpy as np\n",
    "import pandas as pd"
   ]
  },
  {
   "cell_type": "code",
   "execution_count": 45,
   "metadata": {},
   "outputs": [
    {
     "data": {
      "text/plain": [
       "(150, 4)"
      ]
     },
     "execution_count": 45,
     "metadata": {},
     "output_type": "execute_result"
    }
   ],
   "source": [
    "X, y = load_iris(return_X_y=True)\n",
    "X.shape"
   ]
  },
  {
   "cell_type": "code",
   "execution_count": 46,
   "metadata": {},
   "outputs": [
    {
     "data": {
      "text/plain": [
       "array([[0.03745401, 0.09507143, 0.07319939, ..., 0.05247564, 0.0431945 ,\n",
       "        0.02912291],\n",
       "       [0.06118529, 0.01394939, 0.02921446, ..., 0.00976721, 0.0684233 ,\n",
       "        0.04401525],\n",
       "       [0.01220382, 0.04951769, 0.00343885, ..., 0.01959829, 0.00452273,\n",
       "        0.03253303],\n",
       "       ...,\n",
       "       [0.02653261, 0.06015539, 0.02965599, ..., 0.08616909, 0.02740716,\n",
       "        0.08070709],\n",
       "       [0.01952406, 0.0345342 , 0.03356105, ..., 0.0011418 , 0.07036998,\n",
       "        0.09702571],\n",
       "       [0.04376613, 0.02349734, 0.0704871 , ..., 0.03097879, 0.02900455,\n",
       "        0.0871414 ]])"
      ]
     },
     "execution_count": 46,
     "metadata": {},
     "output_type": "execute_result"
    }
   ],
   "source": [
    "E = np.random.RandomState(42).uniform(0, 0.1, size=(X.shape[0], 20))\n",
    "E"
   ]
  },
  {
   "cell_type": "code",
   "execution_count": 47,
   "metadata": {},
   "outputs": [
    {
     "data": {
      "text/html": [
       "<div>\n",
       "<style scoped>\n",
       "    .dataframe tbody tr th:only-of-type {\n",
       "        vertical-align: middle;\n",
       "    }\n",
       "\n",
       "    .dataframe tbody tr th {\n",
       "        vertical-align: top;\n",
       "    }\n",
       "\n",
       "    .dataframe thead th {\n",
       "        text-align: right;\n",
       "    }\n",
       "</style>\n",
       "<table border=\"1\" class=\"dataframe\">\n",
       "  <thead>\n",
       "    <tr style=\"text-align: right;\">\n",
       "      <th></th>\n",
       "      <th>0</th>\n",
       "      <th>1</th>\n",
       "      <th>2</th>\n",
       "      <th>3</th>\n",
       "      <th>4</th>\n",
       "      <th>5</th>\n",
       "      <th>6</th>\n",
       "      <th>7</th>\n",
       "      <th>8</th>\n",
       "      <th>9</th>\n",
       "      <th>...</th>\n",
       "      <th>14</th>\n",
       "      <th>15</th>\n",
       "      <th>16</th>\n",
       "      <th>17</th>\n",
       "      <th>18</th>\n",
       "      <th>19</th>\n",
       "      <th>20</th>\n",
       "      <th>21</th>\n",
       "      <th>22</th>\n",
       "      <th>23</th>\n",
       "    </tr>\n",
       "  </thead>\n",
       "  <tbody>\n",
       "    <tr>\n",
       "      <th>0</th>\n",
       "      <td>5.1</td>\n",
       "      <td>3.5</td>\n",
       "      <td>1.4</td>\n",
       "      <td>0.2</td>\n",
       "      <td>0.037454</td>\n",
       "      <td>0.095071</td>\n",
       "      <td>0.073199</td>\n",
       "      <td>0.059866</td>\n",
       "      <td>0.015602</td>\n",
       "      <td>0.015599</td>\n",
       "      <td>...</td>\n",
       "      <td>0.002058</td>\n",
       "      <td>0.096991</td>\n",
       "      <td>0.083244</td>\n",
       "      <td>0.021234</td>\n",
       "      <td>0.018182</td>\n",
       "      <td>0.018340</td>\n",
       "      <td>0.030424</td>\n",
       "      <td>0.052476</td>\n",
       "      <td>0.043195</td>\n",
       "      <td>0.029123</td>\n",
       "    </tr>\n",
       "    <tr>\n",
       "      <th>1</th>\n",
       "      <td>4.9</td>\n",
       "      <td>3.0</td>\n",
       "      <td>1.4</td>\n",
       "      <td>0.2</td>\n",
       "      <td>0.061185</td>\n",
       "      <td>0.013949</td>\n",
       "      <td>0.029214</td>\n",
       "      <td>0.036636</td>\n",
       "      <td>0.045607</td>\n",
       "      <td>0.078518</td>\n",
       "      <td>...</td>\n",
       "      <td>0.060754</td>\n",
       "      <td>0.017052</td>\n",
       "      <td>0.006505</td>\n",
       "      <td>0.094889</td>\n",
       "      <td>0.096563</td>\n",
       "      <td>0.080840</td>\n",
       "      <td>0.030461</td>\n",
       "      <td>0.009767</td>\n",
       "      <td>0.068423</td>\n",
       "      <td>0.044015</td>\n",
       "    </tr>\n",
       "    <tr>\n",
       "      <th>2</th>\n",
       "      <td>4.7</td>\n",
       "      <td>3.2</td>\n",
       "      <td>1.3</td>\n",
       "      <td>0.2</td>\n",
       "      <td>0.012204</td>\n",
       "      <td>0.049518</td>\n",
       "      <td>0.003439</td>\n",
       "      <td>0.090932</td>\n",
       "      <td>0.025878</td>\n",
       "      <td>0.066252</td>\n",
       "      <td>...</td>\n",
       "      <td>0.096958</td>\n",
       "      <td>0.077513</td>\n",
       "      <td>0.093950</td>\n",
       "      <td>0.089483</td>\n",
       "      <td>0.059790</td>\n",
       "      <td>0.092187</td>\n",
       "      <td>0.008849</td>\n",
       "      <td>0.019598</td>\n",
       "      <td>0.004523</td>\n",
       "      <td>0.032533</td>\n",
       "    </tr>\n",
       "    <tr>\n",
       "      <th>3</th>\n",
       "      <td>4.6</td>\n",
       "      <td>3.1</td>\n",
       "      <td>1.5</td>\n",
       "      <td>0.2</td>\n",
       "      <td>0.038868</td>\n",
       "      <td>0.027135</td>\n",
       "      <td>0.082874</td>\n",
       "      <td>0.035675</td>\n",
       "      <td>0.028093</td>\n",
       "      <td>0.054270</td>\n",
       "      <td>...</td>\n",
       "      <td>0.077224</td>\n",
       "      <td>0.019872</td>\n",
       "      <td>0.000552</td>\n",
       "      <td>0.081546</td>\n",
       "      <td>0.070686</td>\n",
       "      <td>0.072901</td>\n",
       "      <td>0.077127</td>\n",
       "      <td>0.007404</td>\n",
       "      <td>0.035847</td>\n",
       "      <td>0.011587</td>\n",
       "    </tr>\n",
       "    <tr>\n",
       "      <th>4</th>\n",
       "      <td>5.0</td>\n",
       "      <td>3.6</td>\n",
       "      <td>1.4</td>\n",
       "      <td>0.2</td>\n",
       "      <td>0.086310</td>\n",
       "      <td>0.062330</td>\n",
       "      <td>0.033090</td>\n",
       "      <td>0.006356</td>\n",
       "      <td>0.031098</td>\n",
       "      <td>0.032518</td>\n",
       "      <td>...</td>\n",
       "      <td>0.011959</td>\n",
       "      <td>0.071324</td>\n",
       "      <td>0.076079</td>\n",
       "      <td>0.056128</td>\n",
       "      <td>0.077097</td>\n",
       "      <td>0.049380</td>\n",
       "      <td>0.052273</td>\n",
       "      <td>0.042754</td>\n",
       "      <td>0.002542</td>\n",
       "      <td>0.010789</td>\n",
       "    </tr>\n",
       "    <tr>\n",
       "      <th>...</th>\n",
       "      <td>...</td>\n",
       "      <td>...</td>\n",
       "      <td>...</td>\n",
       "      <td>...</td>\n",
       "      <td>...</td>\n",
       "      <td>...</td>\n",
       "      <td>...</td>\n",
       "      <td>...</td>\n",
       "      <td>...</td>\n",
       "      <td>...</td>\n",
       "      <td>...</td>\n",
       "      <td>...</td>\n",
       "      <td>...</td>\n",
       "      <td>...</td>\n",
       "      <td>...</td>\n",
       "      <td>...</td>\n",
       "      <td>...</td>\n",
       "      <td>...</td>\n",
       "      <td>...</td>\n",
       "      <td>...</td>\n",
       "      <td>...</td>\n",
       "    </tr>\n",
       "    <tr>\n",
       "      <th>145</th>\n",
       "      <td>6.7</td>\n",
       "      <td>3.0</td>\n",
       "      <td>5.2</td>\n",
       "      <td>2.3</td>\n",
       "      <td>0.012787</td>\n",
       "      <td>0.076555</td>\n",
       "      <td>0.000001</td>\n",
       "      <td>0.041657</td>\n",
       "      <td>0.052251</td>\n",
       "      <td>0.005463</td>\n",
       "      <td>...</td>\n",
       "      <td>0.023042</td>\n",
       "      <td>0.000147</td>\n",
       "      <td>0.072934</td>\n",
       "      <td>0.096685</td>\n",
       "      <td>0.022429</td>\n",
       "      <td>0.066305</td>\n",
       "      <td>0.074190</td>\n",
       "      <td>0.084843</td>\n",
       "      <td>0.042263</td>\n",
       "      <td>0.030293</td>\n",
       "    </tr>\n",
       "    <tr>\n",
       "      <th>146</th>\n",
       "      <td>6.3</td>\n",
       "      <td>2.5</td>\n",
       "      <td>5.0</td>\n",
       "      <td>1.9</td>\n",
       "      <td>0.032530</td>\n",
       "      <td>0.071262</td>\n",
       "      <td>0.081678</td>\n",
       "      <td>0.018161</td>\n",
       "      <td>0.037094</td>\n",
       "      <td>0.090194</td>\n",
       "      <td>...</td>\n",
       "      <td>0.059064</td>\n",
       "      <td>0.066101</td>\n",
       "      <td>0.007846</td>\n",
       "      <td>0.054450</td>\n",
       "      <td>0.070932</td>\n",
       "      <td>0.016732</td>\n",
       "      <td>0.078063</td>\n",
       "      <td>0.058377</td>\n",
       "      <td>0.095222</td>\n",
       "      <td>0.004242</td>\n",
       "    </tr>\n",
       "    <tr>\n",
       "      <th>147</th>\n",
       "      <td>6.5</td>\n",
       "      <td>3.0</td>\n",
       "      <td>5.2</td>\n",
       "      <td>2.0</td>\n",
       "      <td>0.026533</td>\n",
       "      <td>0.060155</td>\n",
       "      <td>0.029656</td>\n",
       "      <td>0.071442</td>\n",
       "      <td>0.075901</td>\n",
       "      <td>0.010252</td>\n",
       "      <td>...</td>\n",
       "      <td>0.082751</td>\n",
       "      <td>0.069721</td>\n",
       "      <td>0.071433</td>\n",
       "      <td>0.046172</td>\n",
       "      <td>0.092099</td>\n",
       "      <td>0.069460</td>\n",
       "      <td>0.072898</td>\n",
       "      <td>0.086169</td>\n",
       "      <td>0.027407</td>\n",
       "      <td>0.080707</td>\n",
       "    </tr>\n",
       "    <tr>\n",
       "      <th>148</th>\n",
       "      <td>6.2</td>\n",
       "      <td>3.4</td>\n",
       "      <td>5.4</td>\n",
       "      <td>2.3</td>\n",
       "      <td>0.019524</td>\n",
       "      <td>0.034534</td>\n",
       "      <td>0.033561</td>\n",
       "      <td>0.097853</td>\n",
       "      <td>0.085654</td>\n",
       "      <td>0.070117</td>\n",
       "      <td>...</td>\n",
       "      <td>0.038052</td>\n",
       "      <td>0.016304</td>\n",
       "      <td>0.078621</td>\n",
       "      <td>0.073444</td>\n",
       "      <td>0.038436</td>\n",
       "      <td>0.002519</td>\n",
       "      <td>0.083900</td>\n",
       "      <td>0.001142</td>\n",
       "      <td>0.070370</td>\n",
       "      <td>0.097026</td>\n",
       "    </tr>\n",
       "    <tr>\n",
       "      <th>149</th>\n",
       "      <td>5.9</td>\n",
       "      <td>3.0</td>\n",
       "      <td>5.1</td>\n",
       "      <td>1.8</td>\n",
       "      <td>0.043766</td>\n",
       "      <td>0.023497</td>\n",
       "      <td>0.070487</td>\n",
       "      <td>0.081713</td>\n",
       "      <td>0.054643</td>\n",
       "      <td>0.096704</td>\n",
       "      <td>...</td>\n",
       "      <td>0.017926</td>\n",
       "      <td>0.080000</td>\n",
       "      <td>0.055271</td>\n",
       "      <td>0.039655</td>\n",
       "      <td>0.013172</td>\n",
       "      <td>0.086530</td>\n",
       "      <td>0.015727</td>\n",
       "      <td>0.030979</td>\n",
       "      <td>0.029005</td>\n",
       "      <td>0.087141</td>\n",
       "    </tr>\n",
       "  </tbody>\n",
       "</table>\n",
       "<p>150 rows × 24 columns</p>\n",
       "</div>"
      ],
      "text/plain": [
       "      0    1    2    3         4         5         6         7         8   \\\n",
       "0    5.1  3.5  1.4  0.2  0.037454  0.095071  0.073199  0.059866  0.015602   \n",
       "1    4.9  3.0  1.4  0.2  0.061185  0.013949  0.029214  0.036636  0.045607   \n",
       "2    4.7  3.2  1.3  0.2  0.012204  0.049518  0.003439  0.090932  0.025878   \n",
       "3    4.6  3.1  1.5  0.2  0.038868  0.027135  0.082874  0.035675  0.028093   \n",
       "4    5.0  3.6  1.4  0.2  0.086310  0.062330  0.033090  0.006356  0.031098   \n",
       "..   ...  ...  ...  ...       ...       ...       ...       ...       ...   \n",
       "145  6.7  3.0  5.2  2.3  0.012787  0.076555  0.000001  0.041657  0.052251   \n",
       "146  6.3  2.5  5.0  1.9  0.032530  0.071262  0.081678  0.018161  0.037094   \n",
       "147  6.5  3.0  5.2  2.0  0.026533  0.060155  0.029656  0.071442  0.075901   \n",
       "148  6.2  3.4  5.4  2.3  0.019524  0.034534  0.033561  0.097853  0.085654   \n",
       "149  5.9  3.0  5.1  1.8  0.043766  0.023497  0.070487  0.081713  0.054643   \n",
       "\n",
       "           9   ...        14        15        16        17        18  \\\n",
       "0    0.015599  ...  0.002058  0.096991  0.083244  0.021234  0.018182   \n",
       "1    0.078518  ...  0.060754  0.017052  0.006505  0.094889  0.096563   \n",
       "2    0.066252  ...  0.096958  0.077513  0.093950  0.089483  0.059790   \n",
       "3    0.054270  ...  0.077224  0.019872  0.000552  0.081546  0.070686   \n",
       "4    0.032518  ...  0.011959  0.071324  0.076079  0.056128  0.077097   \n",
       "..        ...  ...       ...       ...       ...       ...       ...   \n",
       "145  0.005463  ...  0.023042  0.000147  0.072934  0.096685  0.022429   \n",
       "146  0.090194  ...  0.059064  0.066101  0.007846  0.054450  0.070932   \n",
       "147  0.010252  ...  0.082751  0.069721  0.071433  0.046172  0.092099   \n",
       "148  0.070117  ...  0.038052  0.016304  0.078621  0.073444  0.038436   \n",
       "149  0.096704  ...  0.017926  0.080000  0.055271  0.039655  0.013172   \n",
       "\n",
       "           19        20        21        22        23  \n",
       "0    0.018340  0.030424  0.052476  0.043195  0.029123  \n",
       "1    0.080840  0.030461  0.009767  0.068423  0.044015  \n",
       "2    0.092187  0.008849  0.019598  0.004523  0.032533  \n",
       "3    0.072901  0.077127  0.007404  0.035847  0.011587  \n",
       "4    0.049380  0.052273  0.042754  0.002542  0.010789  \n",
       "..        ...       ...       ...       ...       ...  \n",
       "145  0.066305  0.074190  0.084843  0.042263  0.030293  \n",
       "146  0.016732  0.078063  0.058377  0.095222  0.004242  \n",
       "147  0.069460  0.072898  0.086169  0.027407  0.080707  \n",
       "148  0.002519  0.083900  0.001142  0.070370  0.097026  \n",
       "149  0.086530  0.015727  0.030979  0.029005  0.087141  \n",
       "\n",
       "[150 rows x 24 columns]"
      ]
     },
     "execution_count": 47,
     "metadata": {},
     "output_type": "execute_result"
    }
   ],
   "source": [
    "X = np.hstack((X, E))\n",
    "pd.DataFrame(X)"
   ]
  },
  {
   "cell_type": "code",
   "execution_count": 48,
   "metadata": {},
   "outputs": [
    {
     "data": {
      "text/plain": [
       "array([ 0,  1,  2,  3,  4,  5,  6,  7,  8,  9, 10, 11, 12, 13, 14, 15, 16,\n",
       "       17, 18, 19, 20, 21, 22, 23])"
      ]
     },
     "execution_count": 48,
     "metadata": {},
     "output_type": "execute_result"
    }
   ],
   "source": [
    "X_indices = np.arange(X.shape[-1])\n",
    "X_indices"
   ]
  },
  {
   "cell_type": "code",
   "execution_count": 59,
   "metadata": {},
   "outputs": [
    {
     "name": "stdout",
     "output_type": "stream",
     "text": [
      "(112, 24)\n",
      "(38, 24)\n"
     ]
    }
   ],
   "source": [
    "X_train, X_test, y_train, y_test = train_test_split(X, y)\n",
    "print(X_train.shape)\n",
    "print(X_test.shape)"
   ]
  },
  {
   "attachments": {},
   "cell_type": "markdown",
   "metadata": {},
   "source": [
    "# Univariate Feature Selection\n",
    "Compute the ANOVA F-value (score function) for all features, select the k=2 highest scoring features"
   ]
  },
  {
   "cell_type": "code",
   "execution_count": 61,
   "metadata": {},
   "outputs": [
    {
     "data": {
      "text/plain": [
       "(112, 4)"
      ]
     },
     "execution_count": 61,
     "metadata": {},
     "output_type": "execute_result"
    }
   ],
   "source": [
    "selector = SelectKBest(f_classif, k=4)\n",
    "X_new = selector.fit_transform(X_train, y_train)\n",
    "X_new.shape"
   ]
  },
  {
   "cell_type": "code",
   "execution_count": 64,
   "metadata": {},
   "outputs": [
    {
     "name": "stdout",
     "output_type": "stream",
     "text": [
      "0.9950226727824041\n"
     ]
    },
    {
     "data": {
      "text/plain": [
       "array([2.76257198e-22, 7.11969002e-11, 1.35573627e-66, 1.85716371e-61,\n",
       "       7.11138548e-01, 9.95022673e-01, 1.39812537e-01, 6.93935493e-01,\n",
       "       5.89860280e-02, 3.47254348e-01, 8.50038333e-01, 2.75413134e-01,\n",
       "       8.00397543e-01, 5.70802310e-01, 4.14994512e-01, 3.70454950e-01,\n",
       "       8.07364695e-01, 3.80952241e-01, 5.28971385e-02, 9.81737510e-01,\n",
       "       8.26092301e-01, 8.55061820e-01, 4.58543617e-01, 3.68764857e-01])"
      ]
     },
     "execution_count": 64,
     "metadata": {},
     "output_type": "execute_result"
    }
   ],
   "source": [
    "scores = selector.pvalues_\n",
    "print(scores.max())\n",
    "scores"
   ]
  },
  {
   "cell_type": "code",
   "execution_count": 69,
   "metadata": {},
   "outputs": [
    {
     "data": {
      "image/png": "[encoded data removed]",
      "text/plain": [
       "<Figure size 640x480 with 1 Axes>"
      ]
     },
     "metadata": {},
     "output_type": "display_data"
    }
   ],
   "source": [
    "plt.bar(X_indices, scores)\n",
    "plt.xlabel(\"Index of Feature\")\n",
    "plt.title(\"Feature Selection\")\n",
    "plt.show()"
   ]
  },
  {
   "cell_type": "code",
   "execution_count": null,
   "metadata": {},
   "outputs": [],
   "source": []
  }
 ],
 "metadata": {
  "kernelspec": {
   "display_name": "Python 3",
   "language": "python",
   "name": "python3"
  },
  "language_info": {
   "codemirror_mode": {
    "name": "ipython",
    "version": 3
   },
   "file_extension": ".py",
   "mimetype": "text/x-python",
   "name": "python",
   "nbconvert_exporter": "python",
   "pygments_lexer": "ipython3",
   "version": "3.8.2"
  },
  "orig_nbformat": 4
 },
 "nbformat": 4,
 "nbformat_minor": 2
}
