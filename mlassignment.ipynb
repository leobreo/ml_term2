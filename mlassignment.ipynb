{
 "cells": [
  {
   "cell_type": "code",
   "execution_count": 164,
   "metadata": {},
   "outputs": [],
   "source": [
    "import pandas as pd\n",
    "import numpy as np\n",
    "from sklearn.model_selection import train_test_split, cross_val_score\n",
    "from sklearn.svm import SVC\n",
    "from sklearn.preprocessing import StandardScaler\n",
    "from sklearn.svm import LinearSVC\n",
    "from sklearn.pipeline import Pipeline\n",
    "from sklearn.metrics import confusion_matrix\n",
    "from sklearn.metrics import precision_score, recall_score\n",
    "from sklearn.metrics import f1_score\n",
    "from sklearn.ensemble import RandomForestClassifier\n",
    "from sklearn.model_selection import cross_val_score\n"
   ]
  },
  {
   "cell_type": "code",
   "execution_count": 138,
   "metadata": {},
   "outputs": [
    {
     "data": {
      "text/plain": [
       "(10000, 83)"
      ]
     },
     "execution_count": 138,
     "metadata": {},
     "output_type": "execute_result"
    }
   ],
   "source": [
    "# Load the dataset\n",
    "data = pd.read_csv('data.csv')\n",
    "data.shape"
   ]
  },
  {
   "attachments": {},
   "cell_type": "markdown",
   "metadata": {},
   "source": [
    "## SVM"
   ]
  },
  {
   "cell_type": "code",
   "execution_count": 139,
   "metadata": {},
   "outputs": [],
   "source": [
    "# Define a function to check if a row contains the string \"X\"\n",
    "def contains_x(row):\n",
    "    return any(cell == 'Error: value not found' for cell in row)\n",
    "\n",
    "# Create a boolean mask indicating rows containing the string \"X\"\n",
    "contains_error= data.apply(contains_x, axis=1)\n",
    "\n",
    "# Drop rows containing the string \"X\" using the boolean mask\n",
    "data = data.loc[~contains_error]"
   ]
  },
  {
   "cell_type": "code",
   "execution_count": 144,
   "metadata": {},
   "outputs": [],
   "source": [
    "from sklearn.preprocessing import LabelEncoder\n",
    "\n",
    "# Assuming 'df' is your DataFrame\n",
    "le = LabelEncoder()\n",
    "data[data.columns[0]] = le.fit_transform(data[data.columns[0]])"
   ]
  },
  {
   "cell_type": "code",
   "execution_count": 145,
   "metadata": {},
   "outputs": [],
   "source": [
    "data = data.astype(int)"
   ]
  },
  {
   "cell_type": "code",
   "execution_count": 146,
   "metadata": {},
   "outputs": [
    {
     "name": "stdout",
     "output_type": "stream",
     "text": [
      "(9358, 83)\n",
      "(7486, 82)\n",
      "(7486,)\n"
     ]
    }
   ],
   "source": [
    "# Split the data into features and target\n",
    "X = data.iloc[:, :-1] # All columns except the last one\n",
    "y = data[\"Click\"]\n",
    "\n",
    "# Split the data into training and testing sets (80/20 split)\n",
    "X_train, X_test, y_train, y_test = train_test_split(X, y, test_size=0.2, random_state=1)\n",
    "print(data.shape)\n",
    "print(X_train.shape)\n",
    "print(y_train.shape)"
   ]
  },
  {
   "cell_type": "code",
   "execution_count": 147,
   "metadata": {},
   "outputs": [
    {
     "name": "stderr",
     "output_type": "stream",
     "text": [
      "/Users/leonardbrenk/opt/anaconda3/lib/python3.9/site-packages/sklearn/svm/_base.py:1206: ConvergenceWarning: Liblinear failed to converge, increase the number of iterations.\n",
      "  warnings.warn(\n"
     ]
    },
    {
     "data": {
      "text/plain": [
       "Pipeline(steps=[('scaler', StandardScaler()),\n",
       "                ('linear_svc', LinearSVC(C=1, loss='hinge'))])"
      ]
     },
     "execution_count": 147,
     "metadata": {},
     "output_type": "execute_result"
    }
   ],
   "source": [
    "# Train the SVM classifier\n",
    "svm_clf = Pipeline([(\"scaler\",StandardScaler()),(\"linear_svc\", LinearSVC(C=1, loss=\"hinge\"))])\n",
    "svm_clf.fit(X_train, y_train)"
   ]
  },
  {
   "cell_type": "code",
   "execution_count": 150,
   "metadata": {},
   "outputs": [
    {
     "data": {
      "text/plain": [
       "numpy.ndarray"
      ]
     },
     "execution_count": 150,
     "metadata": {},
     "output_type": "execute_result"
    }
   ],
   "source": [
    "predictions = svm_clf.predict(X_test)\n",
    "type(predictions)"
   ]
  },
  {
   "cell_type": "code",
   "execution_count": 152,
   "metadata": {},
   "outputs": [
    {
     "data": {
      "text/plain": [
       "array([[1620,   22],\n",
       "       [  33,  197]])"
      ]
     },
     "execution_count": 152,
     "metadata": {},
     "output_type": "execute_result"
    }
   ],
   "source": [
    "confusion_matrix(y_test, predictions)"
   ]
  },
  {
   "cell_type": "code",
   "execution_count": 157,
   "metadata": {},
   "outputs": [
    {
     "name": "stdout",
     "output_type": "stream",
     "text": [
      "precision score: \t0.8995433789954338\n",
      "recall score: \t \t0.8565217391304348\n"
     ]
    }
   ],
   "source": [
    "print(\"precision score: \\t\" + str(precision_score(y_test, predictions)))\n",
    "print(\"recall score: \\t \\t\" + str(recall_score(y_test, predictions)))"
   ]
  },
  {
   "cell_type": "code",
   "execution_count": 159,
   "metadata": {},
   "outputs": [
    {
     "name": "stdout",
     "output_type": "stream",
     "text": [
      "F1 score: 0.8775055679287305\n"
     ]
    }
   ],
   "source": [
    "print(\"F1 score: \" + str(f1_score(y_test, predictions)))"
   ]
  },
  {
   "attachments": {},
   "cell_type": "markdown",
   "metadata": {},
   "source": [
    "## Random Forest"
   ]
  },
  {
   "cell_type": "code",
   "execution_count": 161,
   "metadata": {},
   "outputs": [
    {
     "data": {
      "text/plain": [
       "RandomForestClassifier()"
      ]
     },
     "execution_count": 161,
     "metadata": {},
     "output_type": "execute_result"
    }
   ],
   "source": [
    "rnd_clf = RandomForestClassifier()\n",
    "rnd_clf.fit(X_train,y_train)"
   ]
  },
  {
   "cell_type": "code",
   "execution_count": 162,
   "metadata": {},
   "outputs": [],
   "source": [
    "predictions_rnd = rnd_clf.predict(X_test)"
   ]
  },
  {
   "cell_type": "code",
   "execution_count": 178,
   "metadata": {},
   "outputs": [
    {
     "name": "stdout",
     "output_type": "stream",
     "text": [
      "confusion matrix: \t[[1642    0]\n",
      " [ 228    2]]\n",
      "precision score: \t1.0\n",
      "recall score: \t \t0.008695652173913044\n",
      "F1 score: 0.017241379310344827\n",
      "Mean of crossvalidation score: \t0.3496056321597794\n"
     ]
    }
   ],
   "source": [
    "# confusion matrix \n",
    "print(\"confusion matrix: \\t\" + str(confusion_matrix(y_test, predictions_rnd)))\n",
    "\n",
    "# precision and recall\n",
    "print(\"precision score: \\t\" + str(precision_score(y_test, predictions_rnd)))\n",
    "print(\"recall score: \\t \\t\" + str(recall_score(y_test, predictions_rnd)))\n",
    "\n",
    "#F1\n",
    "print(\"F1 score: \" + str(f1_score(y_test, predictions_rnd)))\n",
    "\n",
    "#cross validation\n",
    "scores = cross_val_score(rnd_clf, X_train, y_train, scoring=\"neg_mean_squared_error\", cv=10)\n",
    "tree_rmse_scores = np.sqrt(-scores)\n",
    "print(\"Mean of crossvalidation score: \\t\" + str(tree_rmse_scores.mean()))"
   ]
  },
  {
   "attachments": {},
   "cell_type": "markdown",
   "metadata": {},
   "source": [
    "# Question 3.2"
   ]
  },
  {
   "cell_type": "code",
   "execution_count": 189,
   "metadata": {},
   "outputs": [],
   "source": [
    "from sklearn.linear_model import Lasso\n",
    "import matplotlib.pyplot as plt"
   ]
  },
  {
   "cell_type": "code",
   "execution_count": 180,
   "metadata": {},
   "outputs": [
    {
     "data": {
      "text/plain": [
       "Lasso(alpha=0.1)"
      ]
     },
     "execution_count": 180,
     "metadata": {},
     "output_type": "execute_result"
    }
   ],
   "source": [
    "lasso = Lasso(alpha=0.1)\n",
    "lasso.fit(X_train, y_train)"
   ]
  },
  {
   "cell_type": "code",
   "execution_count": 183,
   "metadata": {},
   "outputs": [
    {
     "name": "stdout",
     "output_type": "stream",
     "text": [
      "Top 5 influential features:\n",
      "Wordpress: 0.008816546325044534\n",
      "Livejournal: 0.005891993838820087\n",
      "Blogger: 0.005075365088810202\n",
      "Cnet: 0.004907965759509024\n",
      "Typepad: 0.000791955510293233\n"
     ]
    }
   ],
   "source": [
    "# Create a function to find the top k influential features\n",
    "def top_k_features(model, feature_names, k=5):\n",
    "    coef = model.coef_\n",
    "    sorted_coef_idx = np.argsort(np.abs(coef))[::-1][:k]\n",
    "    return [(feature_names[idx], coef[idx]) for idx in sorted_coef_idx]\n",
    "\n",
    "# Find the top 5 influential features\n",
    "top_features = top_k_features(lasso, data.columns, k=5)\n",
    "print(\"Top 5 influential features:\")\n",
    "for feature, coef in top_features:\n",
    "    print(f\"{feature}: {coef}\")"
   ]
  },
  {
   "cell_type": "code",
   "execution_count": 187,
   "metadata": {},
   "outputs": [
    {
     "data": {
      "text/plain": [
       "[('Wordpress', 0.008816546325044534),\n",
       " ('Livejournal', 0.005891993838820087),\n",
       " ('Blogger', 0.005075365088810202),\n",
       " ('Cnet', 0.004907965759509024),\n",
       " ('Typepad', 0.000791955510293233)]"
      ]
     },
     "execution_count": 187,
     "metadata": {},
     "output_type": "execute_result"
    }
   ],
   "source": [
    "top_features"
   ]
  },
  {
   "cell_type": "code",
   "execution_count": 190,
   "metadata": {},
   "outputs": [
    {
     "data": {
      "image/png": "[encoded data removed]",
      "text/plain": [
       "<Figure size 432x288 with 1 Axes>"
      ]
     },
     "metadata": {
      "needs_background": "light"
     },
     "output_type": "display_data"
    }
   ],
   "source": [
    "# Create a function to plot the top k influential features\n",
    "def plot_top_k_features(feature_coef_list, k=5):\n",
    "    feature_names, coefficients = zip(*feature_coef_list)\n",
    "    plt.barh(range(k), coefficients, align='center')\n",
    "    plt.yticks(range(k), feature_names)\n",
    "    plt.xlabel('Coefficient')\n",
    "    plt.title(f'Top {k} Influential Features')\n",
    "    plt.gca().invert_yaxis()\n",
    "    plt.show()\n",
    "\n",
    "# Plot the top 5 influential features\n",
    "plot_top_k_features(top_features, k=5)"
   ]
  }
 ],
 "metadata": {
  "kernelspec": {
   "display_name": "base",
   "language": "python",
   "name": "python3"
  },
  "language_info": {
   "codemirror_mode": {
    "name": "ipython",
    "version": 3
   },
   "file_extension": ".py",
   "mimetype": "text/x-python",
   "name": "python",
   "nbconvert_exporter": "python",
   "pygments_lexer": "ipython3",
   "version": "3.9.12"
  },
  "orig_nbformat": 4
 },
 "nbformat": 4,
 "nbformat_minor": 2
}
